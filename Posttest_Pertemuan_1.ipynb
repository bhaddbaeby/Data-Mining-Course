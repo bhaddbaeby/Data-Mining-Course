{
  "nbformat": 4,
  "nbformat_minor": 0,
  "metadata": {
    "colab": {
      "provenance": [],
      "include_colab_link": true
    },
    "kernelspec": {
      "name": "python3",
      "display_name": "Python 3"
    },
    "language_info": {
      "name": "python"
    }
  },
  "cells": [
    {
      "cell_type": "markdown",
      "metadata": {
        "id": "view-in-github",
        "colab_type": "text"
      },
      "source": [
        "<a href=\"https://colab.research.google.com/github/bhaddbaeby/Data-Mining-Course/blob/main/Posttest_Pertemuan_1.ipynb\" target=\"_parent\"><img src=\"https://colab.research.google.com/assets/colab-badge.svg\" alt=\"Open In Colab\"/></a>"
      ]
    },
    {
      "cell_type": "markdown",
      "source": [
        "<h1>Posttest Praktikum Sistem Informasi </h1>\n",
        "\n",
        "NIM **NIM KAMU DISINI**\n",
        "\n",
        "NAMA **NAMA KAMU DISINI**\n",
        "\n",
        "> Kerjakanlah tugas berikut berdasarkan instruksi yang diberkan. Kumpulkanlah hasil posttest ini pada Github dengan mengumpulkan link repository kalian.\n",
        "\n",
        "Disini ada dua jenis tugas.\n",
        "\n",
        "1. Visualisasi\n",
        "2. Penerapan Algoritma Naive Bayes\n",
        "\n",
        "\n",
        "Ketentuan pengumpulan tugas :\n",
        "1. Kumpul Tugas ini dengan Format Kelas_NIM_Posttest 1.ipynb\n",
        "2. Kumpulkan dalam bentuk link repository github\n",
        "3. Berikan penjelasan untuk setiap blok kode dengan membuat text atau comment pada kodingan\n",
        "4. Untuk bagian penjelasan gausa terlalu panjang. \n",
        "singkat padat dan jelas\n",
        "\n",
        "\n"
      ],
      "metadata": {
        "id": "W-uS6_66tbij"
      }
    },
    {
      "cell_type": "markdown",
      "source": [
        "## Business Understanding & Data Understanding"
      ],
      "metadata": {
        "id": "m2edIZ4Rzj_Y"
      }
    },
    {
      "cell_type": "markdown",
      "source": [
        "Importlah pandas, seaborn, dan plotly\n",
        "\n",
        "Download dataset dari link ini [**Link Dataset**](https://github.com/fnikolas-r/Data-Mining-Course/blob/main/Pertemuan%202/ChurnBank.csv)\n",
        "\n",
        "\n",
        "\n",
        "\n",
        "Kemudian taruhlah dalam sebuah variabel bernama df\n",
        "\n",
        "\n",
        "*note: kalian dapat menambah blok yang ada*"
      ],
      "metadata": {
        "id": "wxyi84yY7Lla"
      }
    },
    {
      "cell_type": "code",
      "execution_count": null,
      "metadata": {
        "id": "gxbjtLI5s8pn"
      },
      "outputs": [],
      "source": [
        "# Buatlah datasetnya disini\n",
        "# df = "
      ]
    },
    {
      "cell_type": "markdown",
      "source": [
        "### Business Understanding\n",
        "\n",
        "Disini kamu berandai andai bahwa kamu adalah direktur sebuah perusahaan, kamu menggunakan dataset ini dan akan menggunakan algoritma Naive Bayes untuk perkembangan perusahaan kamu. Jelaskan tujuan penggunaan dataset ini, tujuan perusahaan, serta tujuan dari penggunaan naive bayes (beri penjelasan di text ini)"
      ],
      "metadata": {
        "id": "4zonMQ5M9OxL"
      }
    },
    {
      "cell_type": "markdown",
      "source": [
        "### Data Understanding"
      ],
      "metadata": {
        "id": "Uj2U1K8y-A2J"
      }
    },
    {
      "cell_type": "code",
      "source": [
        "# Dari dataset diatas buatlah  variabel yang berisi\n",
        "# df1 isinya dataset dengan label target AttiredCustomer\n",
        "# df2 dengan label bukan Attrired customer\n",
        "# df3 dengan tabel untuk usia dibawah 50 tahun\n",
        "# df4 untuk customer yang statusnya itu single\n",
        "\n",
        "# df1 = \n",
        "# df2 = \n",
        "# df3 = \n",
        "# df4 = \n",
        "\n"
      ],
      "metadata": {
        "id": "fOe_dNgC7ZVp"
      },
      "execution_count": null,
      "outputs": []
    },
    {
      "cell_type": "code",
      "source": [
        "# Tampilkan info dataset (df.info()) dan berikan penjelasannya dalam bentuk teks atau comment"
      ],
      "metadata": {
        "id": "vm89zlTTOl4D"
      },
      "execution_count": null,
      "outputs": []
    },
    {
      "cell_type": "code",
      "source": [
        "#@title Opsional (nilai plus)\n",
        "\n",
        "# Tampilkan nilai rata-rata, min,max, dan standar deviasi  untuk setiap kolom bertipe angka"
      ],
      "metadata": {
        "id": "Gk-aiwdCO3Tw"
      },
      "execution_count": null,
      "outputs": []
    },
    {
      "cell_type": "markdown",
      "source": [
        "#### Explore Data"
      ],
      "metadata": {
        "id": "PmPSc7uV_XjV"
      }
    },
    {
      "cell_type": "markdown",
      "source": [
        "##### Visualisasi Comparison"
      ],
      "metadata": {
        "id": "OXfexpup_a6l"
      }
    },
    {
      "cell_type": "code",
      "source": [
        "# Buatlah visualisasi yang menampilkan berapa banyak yang attired customer dan tidak"
      ],
      "metadata": {
        "id": "EIVBtry9_W5m"
      },
      "execution_count": null,
      "outputs": []
    },
    {
      "cell_type": "code",
      "source": [
        "# Buatlah visualisasi yang menampilkan berapa banyak Education level berdasarkan kategori-kategorinya \n",
        "# contoh Unknown berapa dsb"
      ],
      "metadata": {
        "id": "UgQPmLrH_lbd"
      },
      "execution_count": null,
      "outputs": []
    },
    {
      "cell_type": "code",
      "source": [
        "# Buatlah visualisasi yang menampilkan berapa banyak Education level berdasarkan gendernya\n",
        "# contoh M berapa F berapa"
      ],
      "metadata": {
        "id": "8Ahhq1TG__7k"
      },
      "execution_count": null,
      "outputs": []
    },
    {
      "cell_type": "markdown",
      "source": [
        "berikan penjelasannya untuk tiap visualsiasi  disini"
      ],
      "metadata": {
        "id": "l0RDSKIjPMae"
      }
    },
    {
      "cell_type": "markdown",
      "source": [
        "##### Visualisasi Distribution\n"
      ],
      "metadata": {
        "id": "CAFZk0hOAEUT"
      }
    },
    {
      "cell_type": "code",
      "source": [
        "# Buatlah historgram untuk customer dan credit card limit"
      ],
      "metadata": {
        "id": "RX_wqpm7PPne"
      },
      "execution_count": null,
      "outputs": []
    },
    {
      "cell_type": "code",
      "source": [
        "# Buatlah boxplot untuk customer dan credit card limit"
      ],
      "metadata": {
        "id": "IcF_B1HmP7mO"
      },
      "execution_count": null,
      "outputs": []
    },
    {
      "cell_type": "markdown",
      "source": [
        "berikan penjelasannya disini"
      ],
      "metadata": {
        "id": "v_TwvSa9P94E"
      }
    },
    {
      "cell_type": "markdown",
      "source": [
        "##### Visualisasi Relationship\n",
        "\n",
        "\n"
      ],
      "metadata": {
        "id": "ezkaX5QbPfNG"
      }
    },
    {
      "cell_type": "code",
      "source": [
        "# Buatlah scatterplot untuk umur customer dan credit card limit"
      ],
      "metadata": {
        "id": "y-lzGBWSP3b8"
      },
      "execution_count": null,
      "outputs": []
    },
    {
      "cell_type": "markdown",
      "source": [
        "##### Visualisasi Composition\n",
        "\n",
        "\n"
      ],
      "metadata": {
        "id": "5jEZ8lWTQWwG"
      }
    },
    {
      "cell_type": "code",
      "source": [
        "# Buatlah pieplot untuk Income Category & Education Level"
      ],
      "metadata": {
        "id": "hjPoni4qQWwH"
      },
      "execution_count": null,
      "outputs": []
    },
    {
      "cell_type": "markdown",
      "source": [
        "### Opsional (Nilai Plus)"
      ],
      "metadata": {
        "id": "rNiY6kMdQlqj"
      }
    },
    {
      "cell_type": "code",
      "source": [
        "# Buatlah visualisasi boxplot Credit Card Limit dengan Jenis Kelamin sebagai pemisahnya (color)"
      ],
      "metadata": {
        "id": "S5YG0MSeQpKh"
      },
      "execution_count": null,
      "outputs": []
    },
    {
      "cell_type": "code",
      "source": [
        "# Buatlah visualisasi boxplot Credit Card Limit dengan Attrition Flag sebagai pemisahnya (color)"
      ],
      "metadata": {
        "id": "T1b84fGPQ4OZ"
      },
      "execution_count": null,
      "outputs": []
    },
    {
      "cell_type": "code",
      "source": [
        "# Buatlah visualisasi boxplot Age dengan Attrition Flag sebagai pemisahnya (color)"
      ],
      "metadata": {
        "id": "9VGH1FdjQ_i4"
      },
      "execution_count": null,
      "outputs": []
    },
    {
      "cell_type": "code",
      "source": [
        "# Buatlah visualisasi countplot  Attrition Flag dengan jenis kelamin sebagai pemisahnya (color)"
      ],
      "metadata": {
        "id": "lkh33qRARKup"
      },
      "execution_count": null,
      "outputs": []
    },
    {
      "cell_type": "code",
      "source": [
        "# Buatlah visualisasi heatmap untuk Setiap variabel numerik yang ada"
      ],
      "metadata": {
        "id": "BmcfGNL1Rdb_"
      },
      "execution_count": null,
      "outputs": []
    },
    {
      "cell_type": "markdown",
      "source": [
        "## Algoritma Naive Bayes dan Preprocessing (pengenalan)"
      ],
      "metadata": {
        "id": "2W-0dXGMRm5g"
      }
    },
    {
      "cell_type": "code",
      "source": [
        "# sebelum membuat algoritma pertama tama buatlah dataset baru dengan ketentuan\n",
        "# mengambil dataset df\n",
        "# Menghapus kolom Unnamed: 0, CLIENTNUM, Umur, dan Limit Kartu Kredit (initinya yang berupa primary key dan bukan tipe kategori)\n",
        "# dataset dengan kolom yang sudah dihapus tadi kemudian disimpan di dataframe baru (df baru)\n"
      ],
      "metadata": {
        "id": "dr9RJsatR35G"
      },
      "execution_count": null,
      "outputs": []
    },
    {
      "cell_type": "code",
      "source": [
        "# Buatlah sebuah fungsi naive bayes dengan ketentuan\n",
        "# Mengambil data dari dataframe yang telah diproses pada blok sebelumnya (diatas)\n",
        "# Nama fungsinya adalah naive_bayes\n",
        "# Mengambil 1 saja parameter yaitu sebuah list berisi kategori\n",
        "\n",
        "# Outputnya berupa prediksi Attrited Customer atau Existing Customer\n",
        "# Outputnya berupa tuple (_hasilnya, persentasenya berapa) contoh (Existing Customer, 0.004)\n",
        "\n",
        "# Tidak boleh menggunakan library manapun selain pandas dan numpy\n",
        "\n",
        "\n",
        "\n",
        "# contoh\n",
        "# def naive_bayes(prediksi:list)-> tuple :\n",
        "#   ........\n",
        "\n",
        "# jadi nanti saat saya coba masukan data \n",
        "# naive_bayes([\"F\",\t\"Uneducated\",\"Single\", \"Unknown\tBlue\"]) akan keluar tuple berupa (\"Attired Customer\", 0.002)\n"
      ],
      "metadata": {
        "id": "2EgdoQwHSasF"
      },
      "execution_count": null,
      "outputs": []
    }
  ]
}